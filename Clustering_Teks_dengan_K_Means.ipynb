{
  "nbformat": 4,
  "nbformat_minor": 0,
  "metadata": {
    "colab": {
      "provenance": [],
      "authorship_tag": "ABX9TyPimI6wAbRUkdIhd5pySMHp",
      "include_colab_link": true
    },
    "kernelspec": {
      "name": "python3",
      "display_name": "Python 3"
    },
    "language_info": {
      "name": "python"
    }
  },
  "cells": [
    {
      "cell_type": "markdown",
      "metadata": {
        "id": "view-in-github",
        "colab_type": "text"
      },
      "source": [
        "<a href=\"https://colab.research.google.com/github/muhammadhafiz27/Clustering-Teks-dengan-K-Means/blob/main/Clustering_Teks_dengan_K_Means.ipynb\" target=\"_parent\"><img src=\"https://colab.research.google.com/assets/colab-badge.svg\" alt=\"Open In Colab\"/></a>"
      ]
    },
    {
      "cell_type": "code",
      "execution_count": null,
      "metadata": {
        "id": "JCKsgY9DDfYC"
      },
      "outputs": [],
      "source": [
        "import numpy as np\n",
        "from sklearn.cluster import KMeans\n",
        "from sklearn.metrics.pairwise import euclidean_distances\n",
        "\n",
        "# Data dokumen\n",
        "documents = [\n",
        "    \"makan ayam enak\",\n",
        "    \"makan nasi\",\n",
        "    \"ayam goreng enak\",\n",
        "    \"python belajar\",\n",
        "    \"machine python\",\n",
        "    \"belajar python machine\"\n",
        "]\n",
        "\n",
        "# Vocabulary\n",
        "vocab = [\"makan\", \"ayam\", \"enak\", \"nasi\", \"goreng\", \"python\", \"belajar\", \"machine\"]"
      ]
    },
    {
      "cell_type": "code",
      "source": [
        "# Binary vector representation\n",
        "def create_binary_vectors(docs, vocabulary):\n",
        "    vectors = []\n",
        "    for doc in docs:\n",
        "        vector = [1 if word in doc.split() else 0 for word in vocabulary]\n",
        "        vectors.append(vector)\n",
        "    return np.array(vectors)\n",
        "\n",
        "# Create vectors\n",
        "X = create_binary_vectors(documents, vocab)\n",
        "print(\"Binary Vectors:\")\n",
        "print(vocab)\n",
        "for i, doc in enumerate(documents):\n",
        "    print(f\"D{i+1}: {X[i]} - {doc}\")"
      ],
      "metadata": {
        "colab": {
          "base_uri": "https://localhost:8080/"
        },
        "id": "bKCpkqopEiFq",
        "outputId": "9f6e77c0-f4ee-4fb8-eabc-88cd05e3746c"
      },
      "execution_count": null,
      "outputs": [
        {
          "output_type": "stream",
          "name": "stdout",
          "text": [
            "Binary Vectors:\n",
            "['makan', 'ayam', 'enak', 'nasi', 'goreng', 'python', 'belajar', 'machine']\n",
            "D1: [1 1 1 0 0 0 0 0] - makan ayam enak\n",
            "D2: [1 0 0 1 0 0 0 0] - makan nasi\n",
            "D3: [0 1 1 0 1 0 0 0] - ayam goreng enak\n",
            "D4: [0 0 0 0 0 1 1 0] - python belajar\n",
            "D5: [0 0 0 0 0 1 0 1] - machine python\n",
            "D6: [0 0 0 0 0 1 1 1] - belajar python machine\n"
          ]
        }
      ]
    },
    {
      "cell_type": "code",
      "source": [
        "# Manual K-Means implementation\n",
        "def manual_kmeans(X, k=2, max_iter=2):\n",
        "    # Initial centroids\n",
        "    centroids = X[[0, 3]]  # D1 and D4 as initial centroids\n",
        "    print(f\"\\nInitial Centroids:\")\n",
        "    print(f\"C1: {centroids[0]}\")\n",
        "    print(f\"C2: {centroids[1]}\")\n",
        "\n",
        "    for iteration in range(max_iter):\n",
        "        print(f\"\\n--- Iteration {iteration+1} ---\")\n",
        "\n",
        "        # Calculate distances\n",
        "        distances = euclidean_distances(X, centroids)\n",
        "        print(\"\\nDistances to Centroids:\")\n",
        "        for i, doc in enumerate(documents):\n",
        "            print(f\"D{i+1}: C1={distances[i][0]:.2f}, C2={distances[i][1]:.2f}\")\n",
        "\n",
        "        # Assign clusters\n",
        "        clusters = np.argmin(distances, axis=1)\n",
        "        print(f\"\\nCluster Assignment: {clusters}\")\n",
        "\n",
        "        # Update centroids\n",
        "        new_centroids = []\n",
        "        for cluster_idx in range(k):\n",
        "            cluster_points = X[clusters == cluster_idx]\n",
        "            if len(cluster_points) > 0:\n",
        "                new_centroid = cluster_points.mean(axis=0)\n",
        "            else:\n",
        "                new_centroid = centroids[cluster_idx]\n",
        "            new_centroids.append(new_centroid)\n",
        "\n",
        "        centroids = np.array(new_centroids)\n",
        "        print(f\"\\nUpdated Centroids:\")\n",
        "        for i, centroid in enumerate(centroids):\n",
        "            clean_centroid = [round(float(x), 2) for x in centroid]\n",
        "            print(f\"C{i+1}: {clean_centroid}\")\n",
        "\n",
        "    return clusters, centroids\n",
        "\n",
        "print(\"=\"*50)\n",
        "print(\"MANUAL K-MEANS IMPLEMENTATION\")\n",
        "print(\"=\"*50)\n",
        "\n",
        "# Run manual K-Means\n",
        "clusters_manual, centroids_manual = manual_kmeans(X)"
      ],
      "metadata": {
        "colab": {
          "base_uri": "https://localhost:8080/"
        },
        "id": "rk3PZsm-ErFl",
        "outputId": "4355a4a7-996f-4f59-9d46-0706dfb3e8b7"
      },
      "execution_count": null,
      "outputs": [
        {
          "output_type": "stream",
          "name": "stdout",
          "text": [
            "==================================================\n",
            "MANUAL K-MEANS IMPLEMENTATION\n",
            "==================================================\n",
            "\n",
            "Initial Centroids:\n",
            "C1: [1 1 1 0 0 0 0 0]\n",
            "C2: [0 0 0 0 0 1 1 0]\n",
            "\n",
            "--- Iteration 1 ---\n",
            "\n",
            "Distances to Centroids:\n",
            "D1: C1=0.00, C2=2.24\n",
            "D2: C1=1.73, C2=2.00\n",
            "D3: C1=1.41, C2=2.24\n",
            "D4: C1=2.24, C2=0.00\n",
            "D5: C1=2.24, C2=1.41\n",
            "D6: C1=2.45, C2=1.00\n",
            "\n",
            "Cluster Assignment: [0 0 0 1 1 1]\n",
            "\n",
            "Updated Centroids:\n",
            "C1: [0.67, 0.67, 0.67, 0.33, 0.33, 0.0, 0.0, 0.0]\n",
            "C2: [0.0, 0.0, 0.0, 0.0, 0.0, 1.0, 0.67, 0.67]\n",
            "\n",
            "--- Iteration 2 ---\n",
            "\n",
            "Distances to Centroids:\n",
            "D1: C1=0.75, C2=2.21\n",
            "D2: C1=1.25, C2=1.97\n",
            "D3: C1=1.11, C2=2.21\n",
            "D4: C1=1.89, C2=0.75\n",
            "D5: C1=1.89, C2=0.75\n",
            "D6: C1=2.13, C2=0.47\n",
            "\n",
            "Cluster Assignment: [0 0 0 1 1 1]\n",
            "\n",
            "Updated Centroids:\n",
            "C1: [0.67, 0.67, 0.67, 0.33, 0.33, 0.0, 0.0, 0.0]\n",
            "C2: [0.0, 0.0, 0.0, 0.0, 0.0, 1.0, 0.67, 0.67]\n"
          ]
        }
      ]
    },
    {
      "cell_type": "code",
      "source": [
        "# Print final results\n",
        "print(\"\\n\" + \"=\"*50)\n",
        "print(\"FINAL RESULTS - MANUAL K-MEANS\")\n",
        "print(\"=\"*50)\n",
        "print(\"Cluster 1 (Food):\", [f\"D{i+1}\" for i in range(len(clusters_manual)) if clusters_manual[i] == 0])\n",
        "print(\"Cluster 2 (Programming):\", [f\"D{i+1}\" for i in range(len(clusters_manual)) if clusters_manual[i] == 1])"
      ],
      "metadata": {
        "colab": {
          "base_uri": "https://localhost:8080/"
        },
        "id": "oqByMsmUFzRv",
        "outputId": "7755dbe5-ea70-4ea7-9bdf-f05a3d74e9d3"
      },
      "execution_count": null,
      "outputs": [
        {
          "output_type": "stream",
          "name": "stdout",
          "text": [
            "\n",
            "==================================================\n",
            "FINAL RESULTS - MANUAL K-MEANS\n",
            "==================================================\n",
            "Cluster 1 (Food): ['D1', 'D2', 'D3']\n",
            "Cluster 2 (Programming): ['D4', 'D5', 'D6']\n"
          ]
        }
      ]
    },
    {
      "cell_type": "code",
      "source": [
        "# Using sklearn K-Means\n",
        "print(\"\\n\" + \"=\"*50)\n",
        "print(\"SKLEARN K-MEANS\")\n",
        "print(\"=\"*50)\n",
        "\n",
        "kmeans = KMeans(n_clusters=2, init=X[[0, 3]], n_init=1, max_iter=2, random_state=42)\n",
        "kmeans.fit(X)\n",
        "\n",
        "print(\"Cluster Labels:\", kmeans.labels_)\n",
        "print(\"Cluster 1 (Food):\", [f\"D{i+1}\" for i in range(len(kmeans.labels_)) if kmeans.labels_[i] == 0])\n",
        "print(\"Cluster 2 (Programming):\", [f\"D{i+1}\" for i in range(len(kmeans.labels_)) if kmeans.labels_[i] == 1])\n",
        "print(\"Final Centroids:\")\n",
        "for i, centroid in enumerate(kmeans.cluster_centers_):\n",
        "    clean_centroid = [round(float(x), 2) for x in centroid]\n",
        "    print(f\"C{i+1}: {clean_centroid}\")\n",
        "\n",
        "# PERBAIKAN: Tambahkan perbandingan dengan hasil manual\n",
        "print(\"\\n\" + \"=\"*50)\n",
        "print(\"COMPARISON WITH MANUAL K-MEANS\")\n",
        "print(\"=\"*50)\n",
        "print(\"Are manual and sklearn results identical?\", np.array_equal(clusters_manual, kmeans.labels_))"
      ],
      "metadata": {
        "colab": {
          "base_uri": "https://localhost:8080/"
        },
        "id": "ejZDxGYIF2CY",
        "outputId": "ace05e0b-1c0d-465a-8f0c-263a6aa51d37"
      },
      "execution_count": null,
      "outputs": [
        {
          "output_type": "stream",
          "name": "stdout",
          "text": [
            "\n",
            "==================================================\n",
            "SKLEARN K-MEANS\n",
            "==================================================\n",
            "Cluster Labels: [0 0 0 1 1 1]\n",
            "Cluster 1 (Food): ['D1', 'D2', 'D3']\n",
            "Cluster 2 (Programming): ['D4', 'D5', 'D6']\n",
            "Final Centroids:\n",
            "C1: [0.67, 0.67, 0.67, 0.33, 0.33, 0.0, 0.0, 0.0]\n",
            "C2: [0.0, 0.0, 0.0, 0.0, 0.0, 1.0, 0.67, 0.67]\n",
            "\n",
            "==================================================\n",
            "COMPARISON WITH MANUAL K-MEANS\n",
            "==================================================\n",
            "Are manual and sklearn results identical? True\n"
          ]
        }
      ]
    },
    {
      "cell_type": "code",
      "source": [
        "# Interpretation\n",
        "print(\"\\n\" + \"=\"*50)\n",
        "print(\"INTERPRETATION\")\n",
        "print(\"=\"*50)\n",
        "\n",
        "dominant_words_cluster1 = [vocab[i] for i in range(len(vocab)) if centroids_manual[0][i] > 0.3]\n",
        "dominant_words_cluster2 = [vocab[i] for i in range(len(vocab)) if centroids_manual[1][i] > 0.3]\n",
        "\n",
        "print(\"Dominant words in Cluster 1 (Food):\", dominant_words_cluster1)\n",
        "print(\"Dominant words in Cluster 2 (Programming):\", dominant_words_cluster2)\n",
        "print(\"Manual and sklearn results are identical:\", np.array_equal(clusters_manual, kmeans.labels_))"
      ],
      "metadata": {
        "colab": {
          "base_uri": "https://localhost:8080/"
        },
        "id": "zYWxubB-F5Mo",
        "outputId": "03eb2ab2-8782-4e95-b82f-14dfc923aa9b"
      },
      "execution_count": null,
      "outputs": [
        {
          "output_type": "stream",
          "name": "stdout",
          "text": [
            "\n",
            "==================================================\n",
            "INTERPRETATION\n",
            "==================================================\n",
            "Dominant words in Cluster 1 (Food): ['makan', 'ayam', 'enak', 'nasi', 'goreng']\n",
            "Dominant words in Cluster 2 (Programming): ['python', 'belajar', 'machine']\n",
            "Manual and sklearn results are identical: True\n"
          ]
        }
      ]
    }
  ]
}